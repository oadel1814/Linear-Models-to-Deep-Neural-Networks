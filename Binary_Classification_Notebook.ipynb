{
  "cells": [
    {
      "cell_type": "markdown",
      "id": "b7d7f3ed",
      "metadata": {
        "id": "b7d7f3ed"
      },
      "source": [
        "## **Binary Classification with PyTorch**\n",
        "This notebook implements binary logistic regression for classifying MNIST digits (0s and 1s) using PyTorch. We'll build the model from scratch and implement the training loop manually to understand the underlying concepts."
      ]
    },
    {
      "cell_type": "markdown",
      "id": "ebee9f82",
      "metadata": {
        "id": "ebee9f82"
      },
      "source": [
        "## 1. Setup and Imports\n",
        "First, we'll import the required libraries and set up our configuration parameters."
      ]
    },
    {
      "cell_type": "code",
      "execution_count": 44,
      "id": "f04d9a3b",
      "metadata": {
        "id": "f04d9a3b"
      },
      "outputs": [],
      "source": [
        "import torch\n",
        "import matplotlib.pyplot as plt\n",
        "import numpy as np\n",
        "from torch.utils.data import Dataset, DataLoader\n",
        "from torchvision import datasets, transforms\n",
        "from sklearn.model_selection import train_test_split\n",
        "from sklearn.metrics import confusion_matrix"
      ]
    },
    {
      "cell_type": "markdown",
      "source": [
        "### 1.1 Configuration and Seed"
      ],
      "metadata": {
        "id": "FBxWOHyPOGFn"
      },
      "id": "FBxWOHyPOGFn"
    },
    {
      "cell_type": "code",
      "source": [
        "DEVICE = torch.device(\"cuda\" if torch.cuda.is_available() else \"cpu\")\n",
        "INPUT_SIZE = 28 * 28  # 784 pixels\n",
        "BATCH_SIZE = 64\n",
        "LEARNING_RATE = 0.01\n",
        "NUM_EPOCHS = 20\n",
        "SEED = 42\n",
        "\n",
        "torch.manual_seed(SEED)\n",
        "if torch.cuda.is_available():\n",
        "    torch.cuda.manual_seed(SEED)"
      ],
      "metadata": {
        "id": "qYva658EOItY"
      },
      "id": "qYva658EOItY",
      "execution_count": 45,
      "outputs": []
    },
    {
      "cell_type": "markdown",
      "id": "806d84f2",
      "metadata": {
        "id": "806d84f2"
      },
      "source": [
        "## 2. Data Preparation\n",
        "We'll create a custom dataset class for handling binary MNIST data (0s and 1s only) and implement the data loading utilities."
      ]
    },
    {
      "cell_type": "code",
      "source": [
        "class BinaryMNISTDataset(Dataset):\n",
        "    \"\"\"\n",
        "    Custom Dataset to filter MNIST for only digits 0 and 1, and flatten images.\n",
        "    Digit 1 is relabeled as 1 (Positive Class).\n",
        "    Digit 0 is relabeled as 0 (Negative Class).\n",
        "    \"\"\"\n",
        "    def __init__(self, data, targets):\n",
        "        # Flatten the 28x28 images into 784 features\n",
        "        self.data = data.float().reshape(-1, INPUT_SIZE)\n",
        "        # Reshape targets to (N, 1) and move to float for BCE loss\n",
        "        self.targets = targets.float().unsqueeze(1)\n",
        "\n",
        "    def __len__(self):\n",
        "        return len(self.data)\n",
        "\n",
        "    def __getitem__(self, idx):\n",
        "        return self.data[idx], self.targets[idx]"
      ],
      "metadata": {
        "id": "uENSQ97jOOP9"
      },
      "id": "uENSQ97jOOP9",
      "execution_count": 46,
      "outputs": []
    },
    {
      "cell_type": "markdown",
      "source": [
        "### 2.1 Data Loading Function"
      ],
      "metadata": {
        "id": "DQrUQGudOSO5"
      },
      "id": "DQrUQGudOSO5"
    },
    {
      "cell_type": "code",
      "source": [
        "def get_binary_dataloaders(batch_size=BATCH_SIZE):\n",
        "    \"\"\"Loads MNIST, filters for 0s and 1s, splits, and creates DataLoaders.\"\"\"\n",
        "    train_data = datasets.MNIST(\n",
        "        root='./data', train=True, download=True\n",
        "    )\n",
        "\n",
        "    # Filter for digits 0 and 1\n",
        "    is_binary_mask = (train_data.targets == 0) | (train_data.targets == 1)\n",
        "    X_full = train_data.data[is_binary_mask]\n",
        "    Y_full = train_data.targets[is_binary_mask]\n",
        "\n",
        "    # 1. Convert to float and scale to [0, 1]\n",
        "    X_full = X_full.float() / 255.0\n",
        "\n",
        "    # 2. Normalize with the standard MNIST mean and std deviation\n",
        "    mean = 0.1307\n",
        "    std = 0.3081\n",
        "    X_full = (X_full - mean) / std\n",
        "\n",
        "\n",
        "    # Split into Train/Validation/Test (60% / 20% / 20%)\n",
        "    X_train_val, X_test, Y_train_val, Y_test = train_test_split(\n",
        "        X_full, Y_full, test_size=0.2, random_state=SEED, stratify=Y_full\n",
        "    )\n",
        "\n",
        "    X_train, X_val, Y_train, Y_val = train_test_split(\n",
        "        X_train_val, Y_train_val, test_size=(0.2/0.8), random_state=SEED, stratify=Y_train_val\n",
        "    )\n",
        "\n",
        "    # Create Custom Datasets\n",
        "    train_dataset = BinaryMNISTDataset(X_train, Y_train)\n",
        "    val_dataset = BinaryMNISTDataset(X_val, Y_val)\n",
        "    test_dataset = BinaryMNISTDataset(X_test, Y_test)\n",
        "\n",
        "    # Create DataLoaders\n",
        "    train_loader = DataLoader(train_dataset, batch_size=batch_size, shuffle=True)\n",
        "    val_loader = DataLoader(val_dataset, batch_size=batch_size, shuffle=False)\n",
        "    test_loader = DataLoader(test_dataset, batch_size=batch_size, shuffle=False)\n",
        "\n",
        "    return train_loader, val_loader, test_loader"
      ],
      "metadata": {
        "id": "pCCTqNiBOUwS"
      },
      "id": "pCCTqNiBOUwS",
      "execution_count": 47,
      "outputs": []
    },
    {
      "cell_type": "markdown",
      "source": [
        "## 3. Model, Loss, and Accuracy\n",
        "Here we implement the Binary Logistic Regression model and define our loss and accuracy functions."
      ],
      "metadata": {
        "id": "ERQq6YGHOeRA"
      },
      "id": "ERQq6YGHOeRA"
    },
    {
      "cell_type": "code",
      "source": [
        "class BinaryLogisticRegression:\n",
        "    \"\"\"\n",
        "    Logistic Regression Model implemented from scratch using pure PyTorch tensors.\n",
        "    W: (784, 1), b: (1,)\n",
        "    \"\"\"\n",
        "    def __init__(self, input_size):\n",
        "        # Initialize Weights (W) with small random values and Bias (b) with zeros\n",
        "        self.W = torch.randn(input_size, 1, device=DEVICE) * 0.01\n",
        "        self.b = torch.zeros(1, device=DEVICE)\n",
        "        self.W.requires_grad_(True)\n",
        "        self.b.requires_grad_(True)\n",
        "\n",
        "    def forward(self, x):\n",
        "        # Linear Score (Logit): z = X @ W + b\n",
        "        linear = torch.matmul(x, self.W) + self.b\n",
        "        # Sigmoid Activation: y_hat = sigma(z)\n",
        "        y_pred = torch.sigmoid(linear)\n",
        "        return y_pred\n",
        "\n",
        "    def parameters(self):\n",
        "        return [self.W, self.b]"
      ],
      "metadata": {
        "id": "R0FUIa_8Og3U"
      },
      "id": "R0FUIa_8Og3U",
      "execution_count": 48,
      "outputs": []
    },
    {
      "cell_type": "markdown",
      "source": [
        "### 3.1 Loss Function"
      ],
      "metadata": {
        "id": "2EGee8ZzOoBY"
      },
      "id": "2EGee8ZzOoBY"
    },
    {
      "cell_type": "code",
      "source": [
        "def custom_binary_cross_entropy(y_pred, y_true):\n",
        "    # Clip predictions to prevent log(0)\n",
        "    epsilon = 1e-15\n",
        "    y_pred = torch.clamp(y_pred, epsilon, 1.0 - epsilon)\n",
        "    loss = - (y_true * torch.log(y_pred) + (1 - y_true) * torch.log(1 - y_pred))\n",
        "    return loss.mean()"
      ],
      "metadata": {
        "id": "-LvKBXYyOpnI"
      },
      "id": "-LvKBXYyOpnI",
      "execution_count": 49,
      "outputs": []
    },
    {
      "cell_type": "markdown",
      "source": [
        "### 3.2 Accuracy Function"
      ],
      "metadata": {
        "id": "IWB-4najPdP5"
      },
      "id": "IWB-4najPdP5"
    },
    {
      "cell_type": "code",
      "source": [
        "def calculate_binary_accuracy(y_pred, y_true):\n",
        "    \"\"\"Calculates accuracy by converting probabilities to class labels (0 or 1).\"\"\"\n",
        "    y_pred_class = (y_pred >= 0.5).float()\n",
        "    correct = (y_pred_class == y_true).float().sum()\n",
        "    return (correct / len(y_true)).item()"
      ],
      "metadata": {
        "id": "DWPhyxhWPet2"
      },
      "id": "DWPhyxhWPet2",
      "execution_count": 50,
      "outputs": []
    },
    {
      "cell_type": "markdown",
      "source": [
        "## 4. Training and Evaluation Functions\n",
        "Here we implement the training loop and evaluation functions for our model."
      ],
      "metadata": {
        "id": "ASAHgMF3PgaX"
      },
      "id": "ASAHgMF3PgaX"
    },
    {
      "cell_type": "code",
      "source": [
        "def train_model_binary(model, optimizer, train_loader, val_loader, loss_fn, epochs):\n",
        "    \"\"\"\n",
        "    The main training loop using a PyTorch Optimizer.\n",
        "    \"\"\"\n",
        "    train_losses, val_losses = [], []\n",
        "    train_accuracies, val_accuracies = [], []\n",
        "\n",
        "    print(f\"Starting training on {DEVICE}...\")\n",
        "\n",
        "    for epoch in range(epochs):\n",
        "        epoch_train_loss, epoch_train_acc = 0.0, 0.0\n",
        "\n",
        "        # --- TRAINING PHASE ---\n",
        "        for X_batch, y_batch in train_loader:\n",
        "            X_batch, y_batch = X_batch.to(DEVICE), y_batch.to(DEVICE)\n",
        "\n",
        "            # 1. Forward Pass\n",
        "            y_pred = model.forward(X_batch)\n",
        "            loss = loss_fn(y_pred, y_batch)\n",
        "\n",
        "            # 2. Reset gradients\n",
        "            optimizer.zero_grad()\n",
        "\n",
        "            # 3. Backward Pass\n",
        "            loss.backward()\n",
        "\n",
        "            # 4. Optimizer Step (Gradient Descent Update)\n",
        "            optimizer.step()\n",
        "\n",
        "            # Accumulate metrics\n",
        "            epoch_train_loss += loss.item() * len(X_batch)\n",
        "            epoch_train_acc += calculate_binary_accuracy(y_pred, y_batch) * len(X_batch)\n",
        "\n",
        "        avg_train_loss = epoch_train_loss / len(train_loader.dataset)\n",
        "        avg_train_acc = epoch_train_acc / len(train_loader.dataset)\n",
        "\n",
        "        # --- VALIDATION PHASE ---\n",
        "        epoch_val_loss, epoch_val_acc = 0.0, 0.0\n",
        "        with torch.no_grad():\n",
        "            for X_batch_val, y_batch_val in val_loader:\n",
        "                X_batch_val, y_batch_val = X_batch_val.to(DEVICE), y_batch_val.to(DEVICE)\n",
        "\n",
        "                y_pred_val = model.forward(X_batch_val)\n",
        "                loss_val = loss_fn(y_pred_val, y_batch_val)\n",
        "\n",
        "                epoch_val_loss += loss_val.item() * len(X_batch_val)\n",
        "                epoch_val_acc += calculate_binary_accuracy(y_pred_val, y_batch_val) * len(X_batch_val)\n",
        "\n",
        "        avg_val_loss = epoch_val_loss / len(val_loader.dataset)\n",
        "        avg_val_acc = epoch_val_acc / len(val_loader.dataset)\n",
        "\n",
        "        # Store metrics for plotting\n",
        "        train_losses.append(avg_train_loss)\n",
        "        val_losses.append(avg_val_loss)\n",
        "        train_accuracies.append(avg_train_acc)\n",
        "        val_accuracies.append(avg_val_acc)\n",
        "\n",
        "        print(f'Epoch {epoch+1:2d}/{epochs} | Train Loss: {avg_train_loss:.4f}, Acc: {avg_train_acc:.4f} | Val Loss: {avg_val_loss:.4f}, Acc: {avg_val_acc:.4f}')\n",
        "\n",
        "    return train_losses, val_losses, train_accuracies, val_accuracies"
      ],
      "metadata": {
        "id": "G6DIp3cBPjcy"
      },
      "id": "G6DIp3cBPjcy",
      "execution_count": 51,
      "outputs": []
    },
    {
      "cell_type": "markdown",
      "source": [
        "### 4.1 Evaluation Function"
      ],
      "metadata": {
        "id": "ejmEnCMBPo7W"
      },
      "id": "ejmEnCMBPo7W"
    },
    {
      "cell_type": "code",
      "source": [
        "def evaluate_binary_model(model, test_loader, loss_fn):\n",
        "    \"\"\"\n",
        "    Evaluates final model performance on the Test Set.\n",
        "    \"\"\"\n",
        "    all_preds, all_targets = [], []\n",
        "    total_loss = 0.0\n",
        "\n",
        "    with torch.no_grad():\n",
        "        for X_batch, y_batch in test_loader:\n",
        "            X_batch, y_batch = X_batch.to(DEVICE), y_batch.to(DEVICE)\n",
        "\n",
        "            y_pred = model.forward(X_batch)\n",
        "            loss = loss_fn(y_pred, y_batch)\n",
        "\n",
        "            total_loss += loss.item() * len(X_batch)\n",
        "            y_pred_class = (y_pred >= 0.5).float()\n",
        "\n",
        "            all_preds.extend(y_pred_class.cpu().numpy().flatten())\n",
        "            all_targets.extend(y_batch.cpu().numpy().flatten())\n",
        "\n",
        "    avg_loss = total_loss / len(test_loader.dataset)\n",
        "    conf_matrix = confusion_matrix(all_targets, all_preds)\n",
        "    final_acc = (conf_matrix[0, 0] + conf_matrix[1, 1]) / len(all_targets)\n",
        "\n",
        "    return final_acc, conf_matrix, avg_loss"
      ],
      "metadata": {
        "id": "oJu96ZGgPql2"
      },
      "id": "oJu96ZGgPql2",
      "execution_count": 52,
      "outputs": []
    },
    {
      "cell_type": "markdown",
      "source": [
        "## 5. Plotting Utilities\n",
        "Function to visualize training progress."
      ],
      "metadata": {
        "id": "VUuuWZv_PyvA"
      },
      "id": "VUuuWZv_PyvA"
    },
    {
      "cell_type": "code",
      "source": [
        "def plot_metrics(train_metrics, val_metrics, title, ylabel):\n",
        "    \"\"\"Generates a plot for tracking convergence.\"\"\"\n",
        "    plt.figure(figsize=(10, 5))\n",
        "    plt.plot(train_metrics, label=f'Training {ylabel}')\n",
        "    plt.plot(val_metrics, label=f'Validation {ylabel}')\n",
        "    plt.title(title)\n",
        "    plt.xlabel('Epoch')\n",
        "    plt.ylabel(ylabel)\n",
        "    plt.legend()\n",
        "    plt.grid(True)\n",
        "    plt.show()"
      ],
      "metadata": {
        "id": "Vw8mSfXKP0Uk"
      },
      "id": "Vw8mSfXKP0Uk",
      "execution_count": 53,
      "outputs": []
    },
    {
      "cell_type": "markdown",
      "source": [
        "## 6. Model Training and Evaluation\n"
      ],
      "metadata": {
        "id": "ZP-xyoZEP18c"
      },
      "id": "ZP-xyoZEP18c"
    },
    {
      "cell_type": "code",
      "source": [
        "# 1. Load and prepare binary data (0s and 1s only)\n",
        "train_loader_binary, val_loader_binary, test_loader_binary = get_binary_dataloaders()"
      ],
      "metadata": {
        "id": "033ar70BP6WU"
      },
      "id": "033ar70BP6WU",
      "execution_count": 54,
      "outputs": []
    },
    {
      "cell_type": "code",
      "source": [
        "# 2. Instantiate the model\n",
        "model_binary = BinaryLogisticRegression(INPUT_SIZE)\n",
        "\n",
        "# 3. Instantiate the Optimizer\n",
        "optimizer = torch.optim.SGD(model_binary.parameters(), lr=LEARNING_RATE)"
      ],
      "metadata": {
        "id": "22B7ur06P_JV"
      },
      "id": "22B7ur06P_JV",
      "execution_count": 55,
      "outputs": []
    },
    {
      "cell_type": "code",
      "source": [
        "# 4. Train the model\n",
        "train_losses, val_losses, train_accuracies, val_accuracies = train_model_binary(\n",
        "    model=model_binary,\n",
        "    optimizer=optimizer,\n",
        "    train_loader=train_loader_binary,\n",
        "    val_loader=val_loader_binary,\n",
        "    loss_fn=custom_binary_cross_entropy,\n",
        "    epochs=NUM_EPOCHS\n",
        ")"
      ],
      "metadata": {
        "id": "6L0AOo3rQCsP",
        "outputId": "1f3ce840-0493-4921-f1c8-9a1c8da900ac",
        "colab": {
          "base_uri": "https://localhost:8080/"
        }
      },
      "id": "6L0AOo3rQCsP",
      "execution_count": 56,
      "outputs": [
        {
          "output_type": "stream",
          "name": "stdout",
          "text": [
            "Starting training on cpu...\n",
            "Epoch  1/20 | Train Loss: 0.0504, Acc: 0.9936 | Val Loss: 0.0190, Acc: 0.9961\n",
            "Epoch  2/20 | Train Loss: 0.0133, Acc: 0.9980 | Val Loss: 0.0136, Acc: 0.9964\n",
            "Epoch  3/20 | Train Loss: 0.0097, Acc: 0.9984 | Val Loss: 0.0115, Acc: 0.9964\n",
            "Epoch  4/20 | Train Loss: 0.0079, Acc: 0.9986 | Val Loss: 0.0104, Acc: 0.9964\n",
            "Epoch  5/20 | Train Loss: 0.0068, Acc: 0.9987 | Val Loss: 0.0097, Acc: 0.9964\n",
            "Epoch  6/20 | Train Loss: 0.0061, Acc: 0.9988 | Val Loss: 0.0092, Acc: 0.9964\n",
            "Epoch  7/20 | Train Loss: 0.0055, Acc: 0.9989 | Val Loss: 0.0089, Acc: 0.9964\n",
            "Epoch  8/20 | Train Loss: 0.0051, Acc: 0.9989 | Val Loss: 0.0087, Acc: 0.9968\n",
            "Epoch  9/20 | Train Loss: 0.0047, Acc: 0.9991 | Val Loss: 0.0085, Acc: 0.9968\n",
            "Epoch 10/20 | Train Loss: 0.0044, Acc: 0.9991 | Val Loss: 0.0083, Acc: 0.9968\n",
            "Epoch 11/20 | Train Loss: 0.0041, Acc: 0.9991 | Val Loss: 0.0082, Acc: 0.9968\n",
            "Epoch 12/20 | Train Loss: 0.0039, Acc: 0.9991 | Val Loss: 0.0080, Acc: 0.9972\n",
            "Epoch 13/20 | Train Loss: 0.0037, Acc: 0.9991 | Val Loss: 0.0080, Acc: 0.9972\n",
            "Epoch 14/20 | Train Loss: 0.0035, Acc: 0.9991 | Val Loss: 0.0079, Acc: 0.9972\n",
            "Epoch 15/20 | Train Loss: 0.0034, Acc: 0.9992 | Val Loss: 0.0078, Acc: 0.9972\n",
            "Epoch 16/20 | Train Loss: 0.0032, Acc: 0.9992 | Val Loss: 0.0078, Acc: 0.9972\n",
            "Epoch 17/20 | Train Loss: 0.0031, Acc: 0.9992 | Val Loss: 0.0077, Acc: 0.9976\n",
            "Epoch 18/20 | Train Loss: 0.0030, Acc: 0.9993 | Val Loss: 0.0077, Acc: 0.9976\n",
            "Epoch 19/20 | Train Loss: 0.0029, Acc: 0.9995 | Val Loss: 0.0076, Acc: 0.9976\n",
            "Epoch 20/20 | Train Loss: 0.0028, Acc: 0.9996 | Val Loss: 0.0076, Acc: 0.9976\n"
          ]
        }
      ]
    },
    {
      "cell_type": "code",
      "source": [
        "# 5. Evaluate on the Test Set\n",
        "test_acc, conf_matrix, test_loss = evaluate_binary_model(\n",
        "    model=model_binary,\n",
        "    test_loader=test_loader_binary,\n",
        "    loss_fn=custom_binary_cross_entropy\n",
        ")"
      ],
      "metadata": {
        "id": "OGLd_dgOQGPV"
      },
      "id": "OGLd_dgOQGPV",
      "execution_count": 57,
      "outputs": []
    },
    {
      "cell_type": "markdown",
      "source": [
        "## 6.1 Final Results"
      ],
      "metadata": {
        "id": "3QEZrkcgQJJl"
      },
      "id": "3QEZrkcgQJJl"
    },
    {
      "cell_type": "code",
      "source": [
        "# 6. Output Results and Visualizations\n",
        "print(f\"Final Test Set Results (Binary Classification)\")\n",
        "print(f\"Test Loss: {test_loss:.4f}\")\n",
        "print(f\"Test Accuracy: {test_acc*100:.2f}%\")"
      ],
      "metadata": {
        "id": "rWBt-KnJQLES",
        "outputId": "1c59c54c-95f9-4fd5-b28c-24253bb2c15f",
        "colab": {
          "base_uri": "https://localhost:8080/"
        }
      },
      "id": "rWBt-KnJQLES",
      "execution_count": 71,
      "outputs": [
        {
          "output_type": "stream",
          "name": "stdout",
          "text": [
            "Final Test Set Results (Binary Classification)\n",
            "Test Loss: 0.0051\n",
            "Test Accuracy: 99.84%\n"
          ]
        }
      ]
    },
    {
      "cell_type": "markdown",
      "source": [
        "## 6.2 Plot Metrics"
      ],
      "metadata": {
        "id": "ex7oXQ7uQUgO"
      },
      "id": "ex7oXQ7uQUgO"
    },
    {
      "cell_type": "code",
      "source": [
        "# Plotting Loss Curve\n",
        "plot_metrics(train_losses, val_losses,\n",
        "            'Binary Logistic Regression Loss Over Epochs', 'Loss')"
      ],
      "metadata": {
        "id": "FkN2QRgEQWA-",
        "outputId": "7794768c-764a-4d16-d49b-f5432f55edd6",
        "colab": {
          "base_uri": "https://localhost:8080/",
          "height": 418
        }
      },
      "id": "FkN2QRgEQWA-",
      "execution_count": 59,
      "outputs": [
        {
          "output_type": "display_data",
          "data": {
            "text/plain": [
              "<Figure size 1000x500 with 1 Axes>"
            ],
            "image/png": "[encoded data removed]"
          },
          "metadata": {}
        }
      ]
    },
    {
      "cell_type": "code",
      "source": [
        "# Plotting Accuracy Curve\n",
        "plot_metrics(train_accuracies, val_accuracies,\n",
        "            'Binary Logistic Regression Accuracy Over Epochs', 'Accuracy')"
      ],
      "metadata": {
        "id": "PdvmokbzQYr2",
        "outputId": "bef2cfe3-72a4-406b-fbb1-d159ac4ccbf7",
        "colab": {
          "base_uri": "https://localhost:8080/",
          "height": 414
        }
      },
      "id": "PdvmokbzQYr2",
      "execution_count": 60,
      "outputs": [
        {
          "output_type": "display_data",
          "data": {
            "text/plain": [
              "<Figure size 1000x500 with 1 Axes>"
            ],
            "image/png": "[encoded data removed]"
          },
          "metadata": {}
        }
      ]
    },
    {
      "cell_type": "markdown",
      "source": [
        "## 6.3 Plotting Confusion Matrix"
      ],
      "metadata": {
        "id": "WqPJzY9eSEBk"
      },
      "id": "WqPJzY9eSEBk"
    },
    {
      "cell_type": "code",
      "execution_count": 70,
      "id": "d9557900",
      "metadata": {
        "colab": {
          "base_uri": "https://localhost:8080/",
          "height": 564
        },
        "id": "d9557900",
        "outputId": "ed6c655b-0f6b-41ca-a153-3f7379519c91"
      },
      "outputs": [
        {
          "output_type": "display_data",
          "data": {
            "text/plain": [
              "<Figure size 800x600 with 2 Axes>"
            ],
            "image/png": "[encoded data removed]"
          },
          "metadata": {}
        }
      ],
      "source": [
        "import seaborn as sns\n",
        "import matplotlib.pyplot as plt\n",
        "\n",
        "# 1. Create the heatmap plot\n",
        "plt.figure(figsize=(8, 6))\n",
        "sns.heatmap(conf_matrix,\n",
        "            annot=True,     # Show the numbers inside the squares\n",
        "            fmt='d',        # Format the numbers as integers\n",
        "            cmap='Blues',   # Use a blue color scheme\n",
        "            xticklabels=['Predicted 0', 'Predicted 1'],\n",
        "            yticklabels=['True 0', 'True 1'])\n",
        "\n",
        "# 2. Add titles and labels\n",
        "plt.title('Confusion Matrix')\n",
        "plt.xlabel('Predicted Label')\n",
        "plt.ylabel('True Label')\n",
        "\n",
        "# 3. Show the plot\n",
        "plt.show()"
      ]
    }
  ],
  "metadata": {
    "kernelspec": {
      "display_name": "Python 3",
      "language": "python",
      "name": "python3"
    },
    "language_info": {
      "codemirror_mode": {
        "name": "ipython",
        "version": 3
      },
      "file_extension": ".py",
      "mimetype": "text/x-python",
      "name": "python",
      "nbconvert_exporter": "python",
      "pygments_lexer": "ipython3",
      "version": "3.10.12"
    },
    "colab": {
      "provenance": []
    }
  },
  "nbformat": 4,
  "nbformat_minor": 5
}
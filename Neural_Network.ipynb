{
  "nbformat": 4,
  "nbformat_minor": 0,
  "metadata": {
    "colab": {
      "provenance": []
    },
    "kernelspec": {
      "name": "python3",
      "display_name": "Python 3"
    },
    "language_info": {
      "name": "python"
    }
  },
  "cells": [
    {
      "cell_type": "markdown",
      "source": [
        "# **Neural Network**\n",
        "This Notebook aims at implementing the handwritten digits (obtained from MNIST Dataset) classification problem\n",
        "using Pytorch"
      ],
      "metadata": {
        "id": "zEyv1v8Pqp2o"
      }
    },
    {
      "cell_type": "markdown",
      "source": [
        "## 1. Setup and Imports\n",
        "First, we'll import the required libraries and set up our configuration parameters."
      ],
      "metadata": {
        "id": "2Rp9RG7jrc05"
      }
    },
    {
      "cell_type": "code",
      "source": [
        "import torch\n",
        "import matplotlib.pyplot as plt\n",
        "import numpy as np\n",
        "from torch.utils.data import Dataset, DataLoader\n",
        "from torchvision import datasets, transforms\n",
        "import torch.nn as nn\n",
        "from sklearn.model_selection import train_test_split\n",
        "import random"
      ],
      "metadata": {
        "id": "-0Uq0C5CsW5Q"
      },
      "execution_count": 204,
      "outputs": []
    },
    {
      "cell_type": "markdown",
      "source": [
        "### 1.1 Configuration and Seed"
      ],
      "metadata": {
        "id": "Jiz_zEeSsaTu"
      }
    },
    {
      "cell_type": "code",
      "source": [
        "DEVICE = torch.device(\"cuda\" if torch.cuda.is_available() else \"cpu\")\n",
        "INPUT_SIZE = 28 * 28  # 784 pixels\n",
        "BATCH_SIZE = 64\n",
        "LEARNING_RATE = 0.01\n",
        "NUM_EPOCHS = 20\n",
        "SEED = 42\n",
        "\n",
        "torch.manual_seed(SEED)\n",
        "if torch.cuda.is_available():\n",
        "    torch.cuda.manual_seed(SEED)"
      ],
      "metadata": {
        "id": "tx8crhwWsbEK"
      },
      "execution_count": 205,
      "outputs": []
    },
    {
      "cell_type": "markdown",
      "source": [
        "## 2. Data Preparing"
      ],
      "metadata": {
        "id": "IbBjtZipuXiu"
      }
    },
    {
      "cell_type": "markdown",
      "source": [
        "#### 2.1 Loading dataset"
      ],
      "metadata": {
        "id": "pMkMuc1avhov"
      }
    },
    {
      "cell_type": "code",
      "source": [
        "def load_mnist():\n",
        "  train_dataset = datasets.MNIST(root='./data', train=True, download=True)\n",
        "  test_dataset = datasets.MNIST(root='./data', train=False, download=True)\n",
        "\n",
        "  full_data = torch.cat((train_dataset.data, test_dataset.data), dim=0)\n",
        "  full_labels = torch.cat((train_dataset.targets, test_dataset.targets), dim=0)\n",
        "\n",
        "  # convert from (N, 28, 28) to (N, 784)\n",
        "  x_flat = full_data.reshape(-1, INPUT_SIZE).numpy()\n",
        "  y_flat = full_labels.numpy()\n",
        "\n",
        "  return x_flat, y_flat"
      ],
      "metadata": {
        "id": "v2apsNmAuqc6"
      },
      "execution_count": 206,
      "outputs": []
    },
    {
      "cell_type": "markdown",
      "source": [
        "#### 2.2 Converting data to tensors"
      ],
      "metadata": {
        "id": "zR3p1Dr3vqNy"
      }
    },
    {
      "cell_type": "code",
      "source": [
        "class convert_to_tensors(Dataset):\n",
        "  def __init__(self, data, labels, reshape_for_cnn=False):\n",
        "    self.labels = torch.tensor(labels, dtype=torch.long)\n",
        "\n",
        "    #preprocessing\n",
        "    data_tensor = torch.tensor(data, dtype=torch.long)\n",
        "    data_normalized = data_tensor / 255.0 ## 0 -> 1\n",
        "\n",
        "    if reshape_for_cnn:\n",
        "      self.data = data_normalized.reshape(-1, 1, 25, 28)\n",
        "    else:\n",
        "      self.data = data_normalized\n",
        "\n",
        "  def __len__(self):\n",
        "    return len(self.labels)\n",
        "\n",
        "  def __getitem__(self, idx):\n",
        "    return self.data[idx], self.labels[idx]"
      ],
      "metadata": {
        "id": "P6CKSwwgv0GI"
      },
      "execution_count": 207,
      "outputs": []
    },
    {
      "cell_type": "markdown",
      "source": [
        "#### 2.3 Splitting data"
      ],
      "metadata": {
        "id": "SjJPUQb_wqc7"
      }
    },
    {
      "cell_type": "code",
      "source": [
        "def split_data(x_flat, y, random_state=42):\n",
        "  x_train, x_temp, y_train, y_temp = train_test_split(\n",
        "      x_flat, y,\n",
        "      test_size = 0.4,\n",
        "      random_state=random_state,\n",
        "      stratify=y\n",
        "  )\n",
        "\n",
        "  x_val, x_test, y_val, y_test = train_test_split(\n",
        "      x_temp, y_temp,\n",
        "      test_size=0.5,\n",
        "      random_state=random_state,\n",
        "      stratify=y_temp\n",
        "  )\n",
        "\n",
        "  return (x_train, y_train), (x_val, y_val), (x_test, y_test)"
      ],
      "metadata": {
        "id": "y4F9iL4AwwG-"
      },
      "execution_count": 208,
      "outputs": []
    },
    {
      "cell_type": "markdown",
      "source": [
        "#### 2.4 Create Dataloaders"
      ],
      "metadata": {
        "id": "XgPOOHguxoBn"
      }
    },
    {
      "cell_type": "code",
      "source": [
        "def create_dataloaders(x_train, y_train, x_val, y_val, x_test, y_test, reshape_for_cnn=False):\n",
        "\n",
        "  train_dataset = convert_to_tensors(x_train, y_train, reshape_for_cnn)\n",
        "  val_dataset = convert_to_tensors(x_val, y_val, reshape_for_cnn)\n",
        "  test_dataset = convert_to_tensors(x_test, y_test, reshape_for_cnn)\n",
        "\n",
        "  train_dataloader = DataLoader(train_dataset, batch_size=BATCH_SIZE, shuffle=True)\n",
        "  val_dataloader = DataLoader(val_dataset, batch_size=BATCH_SIZE, shuffle=False)\n",
        "  test_dataloader = DataLoader(test_dataset, batch_size=BATCH_SIZE, shuffle=False)\n",
        "\n",
        "  return train_dataloader, val_dataloader, test_dataloader\n"
      ],
      "metadata": {
        "id": "nAFpZBYzx14o"
      },
      "execution_count": 209,
      "outputs": []
    },
    {
      "cell_type": "markdown",
      "source": [
        "#### 2.5 Getting Data after Preparation"
      ],
      "metadata": {
        "id": "0qRpD8jByq9C"
      }
    },
    {
      "cell_type": "code",
      "source": [
        "def get_mnist_dataloaders(batch_size=BATCH_SIZE, reshape_for_cnn=False, random_state=42):\n",
        "  x_flat, y = load_mnist()\n",
        "\n",
        "  (x_train, y_train), (x_val, y_val), (x_test, y_test) = split_data(x_flat, y, random_state)\n",
        "  return create_dataloaders(\n",
        "      x_train, y_train, x_val, y_val, x_test, y_test, reshape_for_cnn\n",
        "  )"
      ],
      "metadata": {
        "id": "zSvy2qIzyvgH"
      },
      "execution_count": 210,
      "outputs": []
    },
    {
      "cell_type": "markdown",
      "source": [
        "## 3. Neural Network Architecture"
      ],
      "metadata": {
        "id": "c-qmyUCK3out"
      }
    },
    {
      "cell_type": "markdown",
      "source": [
        "#### 3.1 Feed Forward"
      ],
      "metadata": {
        "id": "c0JZrY8K3wFq"
      }
    },
    {
      "cell_type": "code",
      "source": [
        "class feed_forward(nn.Module):\n",
        "  def __init__(self, layer_sizes):\n",
        "    super(feed_forward, self).__init__()\n",
        "\n",
        "    layers = []\n",
        "    for i in range(len(layer_sizes) - 1):\n",
        "      layers.append(nn.Linear(layer_sizes[i], layer_sizes[i + 1]))\n",
        "\n",
        "      if i < len(layer_sizes) - 2:\n",
        "        layers.append(nn.ReLU())\n",
        "\n",
        "    self.network = nn.Sequential(*layers)\n",
        "    self.apply(self._init_weights)\n",
        "\n",
        "  def _init_weights(self, m):\n",
        "    # He initialization\n",
        "    if isinstance(m, nn.Linear):\n",
        "      nn.init.kaiming_normal_(m.weight, mode='fan_in', nonlinearity = 'relu')\n",
        "      if m.bias is not None:\n",
        "        nn.init.constant_(m.bias, 0)\n",
        "  def forward(self, x):\n",
        "    return self.network(x)"
      ],
      "metadata": {
        "id": "Jf51ctF84GSb"
      },
      "execution_count": 211,
      "outputs": []
    },
    {
      "cell_type": "markdown",
      "source": [
        "## 4. Training Infrastructure"
      ],
      "metadata": {
        "id": "B0TfVTkQ6YBX"
      }
    },
    {
      "cell_type": "markdown",
      "source": [
        "#### 4.1 Training loop"
      ],
      "metadata": {
        "id": "jSJO77RD6csb"
      }
    },
    {
      "cell_type": "code",
      "source": [
        "def train_epoch(model, dataloader, criterion, optimizer, device):\n",
        "  model.train()\n",
        "  running_loss = 0.0\n",
        "\n",
        "  for images, labels in dataloader:\n",
        "    images = images.to(device)\n",
        "    labels = labels.to(device)\n",
        "\n",
        "    optimizer.zero_grad() # 1. Zero gradients\n",
        "    outputs = model(images) # 2. Forward pass\n",
        "    loss = criterion(outputs, labels) # 3. Calculate loss\n",
        "    loss.backward() # 4. Backward pass\n",
        "    optimizer.step() # 5. Update weights\n",
        "\n",
        "    running_loss += loss.item() * images.size(0)\n",
        "\n",
        "  epoch_loss = running_loss / len(dataloader.dataset)\n",
        "  return epoch_loss"
      ],
      "metadata": {
        "id": "jzd97IJm6rd-"
      },
      "execution_count": 215,
      "outputs": []
    },
    {
      "cell_type": "markdown",
      "source": [
        "#### 4.2 Evaluate Model"
      ],
      "metadata": {
        "id": "fyBOnoKkAL79"
      }
    },
    {
      "cell_type": "code",
      "source": [
        "def evaluate_model(model, dataloader, criterion, device):\n",
        "  model.eval()\n",
        "  running_loss = 0.0\n",
        "  correct = 0\n",
        "  total = 0\n",
        "\n",
        "  with torch.no_grad():\n",
        "    for images, labels in dataloader:\n",
        "      images = images.to(device)\n",
        "      labels = labels.to(device)\n",
        "\n",
        "      # 1. Forward pass\n",
        "      outputs = model(images)\n",
        "\n",
        "      # 2. Calculate loss\n",
        "      loss = criterion(outputs, labels)\n",
        "      running_loss += loss.item() * images.size(0)\n",
        "\n",
        "      # 3. Calculate accuracy\n",
        "      _, predicted = torch.max(outputs.data, 1)\n",
        "      total += labels.size(0)\n",
        "      correct += (predicted == labels).sum().item()\n",
        "\n",
        "  epoch_loss = running_loss / len(dataloader.dataset)\n",
        "  accuracy = 100 * correct / total\n",
        "  return epoch_loss, accuracy"
      ],
      "metadata": {
        "id": "vVlJ3mLsAOV1"
      },
      "execution_count": 216,
      "outputs": []
    },
    {
      "cell_type": "markdown",
      "source": [
        "#### 4.3 Training Model"
      ],
      "metadata": {
        "id": "jgMvC_-3CK0-"
      }
    },
    {
      "cell_type": "code",
      "source": [
        "model_architecture = [INPUT_SIZE, 128, 64, 10]\n",
        "\n",
        "# Loading data\n",
        "train_loader, val_loader, test_loader = get_mnist_dataloaders(\n",
        "    batch_size=BATCH_SIZE, reshape_for_cnn=False\n",
        ")\n",
        "\n",
        "# initialize model\n",
        "model = feed_forward(layer_sizes=model_architecture)\n",
        "\n",
        "# define loss function\n",
        "criterion = nn.CrossEntropyLoss()\n",
        "\n",
        "# define optimizer\n",
        "optimizer = torch.optim.SGD(model.parameters(), lr=LEARNING_RATE)\n",
        "\n",
        "\n",
        "# store metrics\n",
        "train_losses = []\n",
        "val_losses = []\n",
        "val_accuracies = []\n",
        "\n",
        "# start training\n",
        "for epoch in range(NUM_EPOCHS):\n",
        "  # run one epoch of training\n",
        "  train_loss = train_epoch(model, train_loader, criterion, optimizer, DEVICE)\n",
        "\n",
        "  # evaluate on the validation set\n",
        "  val_loss, val_accuracy = evaluate_model(model, val_loader, criterion, DEVICE)\n",
        "  train_losses.append(train_loss)\n",
        "  val_losses.append(val_loss)\n",
        "  val_accuracies.append(val_accuracy)\n",
        "\n",
        "  # trach progress\n",
        "  print(f\"Epoch {epoch+1:2}/{NUM_EPOCHS} | \"\n",
        "              f\"Train Loss: {train_loss:.4f} | \"\n",
        "              f\"Val Loss: {val_loss:.4f} | \"\n",
        "              f\"Val Accuracy: {val_accuracy:.2f}%\")"
      ],
      "metadata": {
        "colab": {
          "base_uri": "https://localhost:8080/"
        },
        "id": "YOyq1IPuCR71",
        "outputId": "72a0e4bc-1b7f-406a-f8e5-f4a63b819c0b"
      },
      "execution_count": 217,
      "outputs": [
        {
          "output_type": "stream",
          "name": "stdout",
          "text": [
            "Epoch  1/20 | Train Loss: 0.9684 | Val Loss: 0.4781 | Val Accuracy: 87.15%\n",
            "Epoch  2/20 | Train Loss: 0.4008 | Val Loss: 0.3636 | Val Accuracy: 89.54%\n",
            "Epoch  3/20 | Train Loss: 0.3279 | Val Loss: 0.3149 | Val Accuracy: 90.85%\n",
            "Epoch  4/20 | Train Loss: 0.2909 | Val Loss: 0.2905 | Val Accuracy: 91.60%\n",
            "Epoch  5/20 | Train Loss: 0.2655 | Val Loss: 0.2717 | Val Accuracy: 92.04%\n",
            "Epoch  6/20 | Train Loss: 0.2460 | Val Loss: 0.2564 | Val Accuracy: 92.67%\n",
            "Epoch  7/20 | Train Loss: 0.2295 | Val Loss: 0.2418 | Val Accuracy: 92.96%\n",
            "Epoch  8/20 | Train Loss: 0.2151 | Val Loss: 0.2272 | Val Accuracy: 93.44%\n",
            "Epoch  9/20 | Train Loss: 0.2026 | Val Loss: 0.2173 | Val Accuracy: 93.75%\n",
            "Epoch 10/20 | Train Loss: 0.1918 | Val Loss: 0.2143 | Val Accuracy: 93.81%\n",
            "Epoch 11/20 | Train Loss: 0.1819 | Val Loss: 0.2021 | Val Accuracy: 94.13%\n",
            "Epoch 12/20 | Train Loss: 0.1732 | Val Loss: 0.1921 | Val Accuracy: 94.54%\n",
            "Epoch 13/20 | Train Loss: 0.1652 | Val Loss: 0.1850 | Val Accuracy: 94.69%\n",
            "Epoch 14/20 | Train Loss: 0.1577 | Val Loss: 0.1798 | Val Accuracy: 94.79%\n",
            "Epoch 15/20 | Train Loss: 0.1511 | Val Loss: 0.1740 | Val Accuracy: 94.99%\n",
            "Epoch 16/20 | Train Loss: 0.1450 | Val Loss: 0.1687 | Val Accuracy: 95.11%\n",
            "Epoch 17/20 | Train Loss: 0.1391 | Val Loss: 0.1641 | Val Accuracy: 95.23%\n",
            "Epoch 18/20 | Train Loss: 0.1340 | Val Loss: 0.1609 | Val Accuracy: 95.36%\n",
            "Epoch 19/20 | Train Loss: 0.1289 | Val Loss: 0.1599 | Val Accuracy: 95.39%\n",
            "Epoch 20/20 | Train Loss: 0.1245 | Val Loss: 0.1599 | Val Accuracy: 95.21%\n"
          ]
        }
      ]
    },
    {
      "cell_type": "markdown",
      "source": [
        "## 5. Plot training and validation losses and accuracies"
      ],
      "metadata": {
        "id": "GTO4e0g5OKnA"
      }
    },
    {
      "cell_type": "code",
      "source": [
        "def plot_metrics(train_losses, val_losses, val_accuracies):\n",
        "    epochs = range(1, len(train_losses) + 1)\n",
        "\n",
        "    plt.figure(figsize=(10, 5))\n",
        "    plt.plot(epochs, train_losses, 'b-o', label='Training Loss')\n",
        "    plt.plot(epochs, val_losses, 'r-o', label='Validation Loss')\n",
        "    plt.title('Training and Validation Loss')\n",
        "    plt.xlabel('Epochs')\n",
        "    plt.ylabel('Loss')\n",
        "    plt.legend()\n",
        "    plt.grid(True)\n",
        "    plt.show()\n",
        "\n",
        "\n",
        "    plt.figure(figsize=(10, 5))\n",
        "    plt.plot(epochs, val_accuracies, 'g-o', label='Validation Accuracy')\n",
        "    plt.title('Validation Accuracy')\n",
        "    plt.xlabel('Epochs')\n",
        "    plt.ylabel('Accuracy (%)')\n",
        "    plt.legend()\n",
        "    plt.grid(True)\n",
        "    plt.show()"
      ],
      "metadata": {
        "id": "Xm0PVdz6OS7Q"
      },
      "execution_count": 218,
      "outputs": []
    },
    {
      "cell_type": "code",
      "source": [
        "plot_metrics(train_losses, val_losses, val_accuracies)"
      ],
      "metadata": {
        "colab": {
          "base_uri": "https://localhost:8080/",
          "height": 866
        },
        "id": "K63oxeN0OYCq",
        "outputId": "90ce9adb-2631-422b-9bd9-cc3cbc3a49a5"
      },
      "execution_count": 219,
      "outputs": [
        {
          "output_type": "display_data",
          "data": {
            "text/plain": [
              "<Figure size 1000x500 with 1 Axes>"
            ],
            "image/png": "[encoded data removed]"
          },
          "metadata": {}
        },
        {
          "output_type": "display_data",
          "data": {
            "text/plain": [
              "<Figure size 1000x500 with 1 Axes>"
            ],
            "image/png": "[encoded data removed]"
          },
          "metadata": {}
        }
      ]
    },
    {
      "cell_type": "markdown",
      "source": [
        "# 6. Final Test"
      ],
      "metadata": {
        "id": "Jafq7L6uOam7"
      }
    },
    {
      "cell_type": "code",
      "source": [
        "test_loss, test_accuracy = evaluate_model(model, test_loader, criterion, DEVICE)"
      ],
      "metadata": {
        "id": "9WpseoIDOem0"
      },
      "execution_count": 221,
      "outputs": []
    },
    {
      "cell_type": "code",
      "source": [
        "print(f\"Final Test Results:\")\n",
        "print(f\"Test Loss: {test_loss:.4f}\")\n",
        "print(f\"Test Accuracy: {test_accuracy:.2f}%\")"
      ],
      "metadata": {
        "colab": {
          "base_uri": "https://localhost:8080/"
        },
        "id": "Cuw51TvSOpYC",
        "outputId": "a6ffac84-e1cc-404e-cf3e-72c4ef5d995a"
      },
      "execution_count": 223,
      "outputs": [
        {
          "output_type": "stream",
          "name": "stdout",
          "text": [
            "Final Test Results:\n",
            "Test Loss: 0.1543\n",
            "Test Accuracy: 95.39%\n"
          ]
        }
      ]
    }
  ]
}
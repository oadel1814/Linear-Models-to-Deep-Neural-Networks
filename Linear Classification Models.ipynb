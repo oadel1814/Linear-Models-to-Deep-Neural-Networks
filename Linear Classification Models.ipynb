{
 "cells": [
  {
   "cell_type": "code",
   "execution_count": null,
   "id": "1375b3e5",
   "metadata": {},
   "outputs": [
    {
     "name": "stdout",
     "output_type": "stream",
     "text": [
      "Path to dataset files: /home/omar/.cache/kagglehub/datasets/hojjatk/mnist-dataset/versions/1\n"
     ]
    }
   ],
   "source": [
    "import os\n",
    "import requests\n",
    "import gzip\n",
    "import shutil\n",
    "\n",
    "# Download and extract original MNIST IDX files from Yann LeCun\n",
    "BASE_URL = 'http://yann.lecun.com/exdb/mnist/'\n",
    "FILES = {\n",
    "    'train-images-idx3-ubyte.gz': 'train-images-idx3-ubyte/train-images-idx3-ubyte',\n",
    "    'train-labels-idx1-ubyte.gz': 'train-labels-idx1-ubyte/train-labels-idx1-ubyte',\n",
    "    't10k-images-idx3-ubyte.gz': 't10k-images-idx3-ubyte/t10k-images-idx3-ubyte',\n",
    "    't10k-labels-idx1-ubyte.gz': 't10k-labels-idx1-ubyte/t10k-labels-idx1-ubyte',\n",
    "}\n",
    "\n",
    "# Target base relative to the notebook. This will create '../input/...' to match the loader's paths\n",
    "ROOT_INPUT = os.path.abspath(os.path.join(os.getcwd(), '..', 'input'))\n",
    "os.makedirs(ROOT_INPUT, exist_ok=True)\n",
    "\n",
    "def download_and_extract(gz_name, dest_rel):\n",
    "    url = BASE_URL + gz_name\n",
    "    dest_path = os.path.join(ROOT_INPUT, dest_rel)\n",
    "    dest_dir = os.path.dirname(dest_path)\n",
    "    os.makedirs(dest_dir, exist_ok=True)\n",
    "    tmp_gz = dest_path + '.gz'\n",
    "    if os.path.exists(dest_path):\n",
    "        print(f'Skipping, already exists: {dest_path}')\n",
    "        return\n",
    "    print(f'Downloading {url} -> {tmp_gz}')\n",
    "    with requests.get(url, stream=True) as r:\n",
    "        r.raise_for_status()\n",
    "        with open(tmp_gz, 'wb') as f:\n",
    "            for chunk in r.iter_content(chunk_size=8192):\n",
    "                if chunk:\n",
    "                    f.write(chunk)\n",
    "    print(f'Extracting {tmp_gz} -> {dest_path}')\n",
    "    with gzip.open(tmp_gz, 'rb') as f_in:\n",
    "        with open(dest_path, 'wb') as f_out:\n",
    "            shutil.copyfileobj(f_in, f_out)\n",
    "    os.remove(tmp_gz)\n",
    "\n",
    "for gz, dest in FILES.items():\n",
    "    try:\n",
    "        download_and_extract(gz, dest)\n",
    "    except Exception as e:\n",
    "        print('Error downloading', gz, e)\n",
    "\n",
    "print('\\nDownloaded files:')\n",
    "for gz, dest in FILES.items():\n",
    "    p = os.path.join(ROOT_INPUT, dest)\n",
    "    if os.path.exists(p):\n",
    "        print(p, os.path.getsize(p), 'bytes')\n",
    "    else:\n",
    "        print('MISSING:', p)"
   ]
  }
 ],
 "metadata": {
  "kernelspec": {
   "display_name": "Python 3",
   "language": "python",
   "name": "python3"
  },
  "language_info": {
   "codemirror_mode": {
    "name": "ipython",
    "version": 3
   },
   "file_extension": ".py",
   "mimetype": "text/x-python",
   "name": "python",
   "nbconvert_exporter": "python",
   "pygments_lexer": "ipython3",
   "version": "3.10.12"
  }
 },
 "nbformat": 4,
 "nbformat_minor": 5
}
